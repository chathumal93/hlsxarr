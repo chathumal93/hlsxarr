{
  "nbformat": 4,
  "nbformat_minor": 0,
  "metadata": {
    "colab": {
      "provenance": [],
      "authorship_tag": "ABX9TyPUI66l+NN4ZJpVMQ0B0B7D",
      "include_colab_link": true
    },
    "kernelspec": {
      "name": "python3",
      "display_name": "Python 3"
    },
    "language_info": {
      "name": "python"
    }
  },
  "cells": [
    {
      "cell_type": "markdown",
      "metadata": {
        "id": "view-in-github",
        "colab_type": "text"
      },
      "source": [
        "<a href=\"https://colab.research.google.com/github/chathumal93/hlsxarr/blob/main/hlsxarr.ipynb\" target=\"_parent\"><img src=\"https://colab.research.google.com/assets/colab-badge.svg\" alt=\"Open In Colab\"/></a>"
      ]
    },
    {
      "cell_type": "code",
      "source": [
        "%%capture\n",
        "!pip install https://github.com/chathumal93/hlsxarr/releases/download/v0.1.0/hlsxarr-0.1.0-py3-none-any.whl"
      ],
      "metadata": {
        "id": "rgEgVsj52Sg1"
      },
      "execution_count": 1,
      "outputs": []
    },
    {
      "cell_type": "code",
      "source": [
        "from hlsxarr import HLSProcessor"
      ],
      "metadata": {
        "id": "vV7DDlGm5L48"
      },
      "execution_count": 2,
      "outputs": []
    },
    {
      "cell_type": "code",
      "source": [
        "from google.colab import userdata\n",
        "token = userdata.get('EDL_TOKEN')"
      ],
      "metadata": {
        "id": "Zo1oRGMp6aZt"
      },
      "execution_count": 3,
      "outputs": []
    },
    {
      "cell_type": "code",
      "source": [
        "roi_dict = {\n",
        "    \"coordinates\": [\n",
        "        [\n",
        "            [-78.60065306329707, 36.723116361254284],\n",
        "            [-78.60065306329707, 36.60070088520398],\n",
        "            [-78.33799755283125, 36.60070088520398],\n",
        "            [-78.33799755283125, 36.723116361254284],\n",
        "            [-78.60065306329707, 36.723116361254284],\n",
        "        ]\n",
        "    ],\n",
        "    \"type\": \"Polygon\",\n",
        "}\n",
        "\n",
        "hls = HLSProcessor(edl_token=token)\n",
        "\n",
        "xr_ds = hls.process(\n",
        "    roi=roi_dict,\n",
        "    start_date=\"2025-01-01\",\n",
        "    end_date=\"2025-01-07\",\n",
        "    collections=[\"HLSS30.v2.0\", \"HLSL30.v2.0\"],\n",
        "    bands=[\"CA\",\"BLUE\",\"GREEN\",\"RED\",\"NIR\",\"SWIR1\",\"SWIR2\",\"FMASK\"],\n",
        "    limit=100,\n",
        "    workers=8,\n",
        "    max_area_km2=1000,\n",
        ")\n",
        "\n",
        "print(xr_ds)"
      ],
      "metadata": {
        "id": "DeFw0A-35FBA",
        "colab": {
          "base_uri": "https://localhost:8080/"
        },
        "outputId": "64104cd9-4c77-4d41-a48c-48832d102b45"
      },
      "execution_count": 4,
      "outputs": [
        {
          "output_type": "stream",
          "name": "stdout",
          "text": [
            "Searching HLS data...\n",
            "Found 48 urls\n"
          ]
        },
        {
          "output_type": "stream",
          "name": "stderr",
          "text": [
            "Reading HLS Data: 100%|███████████████████████| 48/48 [00:29<00:00,  1.64file/s]\n"
          ]
        },
        {
          "output_type": "stream",
          "name": "stdout",
          "text": [
            "<xarray.Dataset> Size: 34MB\n",
            "Dimensions:  (time: 6, y: 473, x: 794)\n",
            "Coordinates:\n",
            "  * time     (time) datetime64[ns] 48B 2025-01-02T16:13:06.729000 ... 2025-01...\n",
            "  * x        (x) float64 6kB 7.143e+05 7.143e+05 ... 7.38e+05 7.381e+05\n",
            "  * y        (y) float64 4kB 4.067e+06 4.067e+06 ... 4.053e+06 4.053e+06\n",
            "Data variables:\n",
            "    BLUE     (time, x, y) int16 5MB -9999 -9999 -9999 -9999 ... 97 112 118 137\n",
            "    CA       (time, x, y) int16 5MB -9999 -9999 -9999 -9999 ... 73 73 75 97\n",
            "    FMASK    (time, x, y) uint8 2MB 241 241 241 241 241 241 ... 64 64 64 64 64\n",
            "    GREEN    (time, x, y) int16 5MB -9999 -9999 -9999 -9999 ... 209 217 236 278\n",
            "    NIR      (time, x, y) int16 5MB -9999 -9999 -9999 -9999 ... 1820 2014 2173\n",
            "    RED      (time, x, y) int16 5MB -9999 -9999 -9999 -9999 ... 153 160 170 231\n",
            "    SAT_ID   (time) uint8 6B 1 1 1 1 0 0\n",
            "    SWIR1    (time, x, y) int16 5MB -9999 -9999 -9999 -9999 ... 628 714 919 1035\n",
            "    SWIR2    (time, x, y) int16 5MB -9999 -9999 -9999 -9999 ... 271 298 386 473\n",
            "Attributes:\n",
            "    crs:      EPSG:32617\n",
            "    sat_ids:  L30 : 0, S30 : 1\n"
          ]
        }
      ]
    }
  ]
}